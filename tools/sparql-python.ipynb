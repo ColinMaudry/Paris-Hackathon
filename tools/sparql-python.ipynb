{
  "cells": [
    {
      "metadata": {
        "_uuid": "3c2b3f3a9f5e4cf463bb8925f0a6a8a3d877f0bb"
      },
      "cell_type": "markdown",
      "source": "# Querying a SPARQL endpoint with Python"
    },
    {
      "metadata": {
        "_uuid": "fc27710307548c9dd5a5abacb0c72028fb36a87d"
      },
      "cell_type": "markdown",
      "source": "We first import all needed dependencies."
    },
    {
      "metadata": {
        "_uuid": "8f2839f25d086af736a60e9eeb907d3b93b6e0e5",
        "_cell_guid": "b1076dfc-b9ad-4769-8c92-a6c4dae69d19",
        "trusted": true
      },
      "cell_type": "code",
      "source": "import pandas as pd\nfrom SPARQLWrapper import SPARQLWrapper, JSON",
      "execution_count": null,
      "outputs": []
    },
    {
      "metadata": {
        "_uuid": "69ce29a5de8c9368d17b51a592a073ebfe4f7159"
      },
      "cell_type": "markdown",
      "source": "Then, we define the target URL to a SPARQL endpoint and the query we want to execute on."
    },
    {
      "metadata": {
        "trusted": true,
        "_uuid": "23345b3d1f37fc1b512bee3e28077654275e994c"
      },
      "cell_type": "code",
      "source": "URL = \"http://graphdb.linked-open-statistics.org/repositories/pop5\"\n\nQUERY = \"\"\"\nPREFIX skos:<http://www.w3.org/2004/02/skos/core#>\nPREFIX rdf: <http://www.w3.org/1999/02/22-rdf-syntax-ns#>\nPREFIX cog2017: <http://id.insee.fr/codes/cog2017/>\nSELECT ?id ?code\nWHERE {\n    ?id skos:notation ?code ;\n    rdf:type cog2017:DepartementOuCommuneOuArrondissementMunicipal .\n} LIMIT 100\n\"\"\"\n\n# The SPARQLWrapper will store network info and query logic\nhackathon_endpoint = SPARQLWrapper(URL)\nhackathon_endpoint.setQuery(QUERY)\n\n# We want the resulting data in JSON format\nhackathon_endpoint.setReturnFormat(JSON)\nquery_res = hackathon_endpoint.query().convert()\n\n# Data structures for storing codes and URIs\nuris = []\ncodes = []\nfor results in query_res[\"results\"][\"bindings\"]:\n    code = results['code']['value']\n    codes.append(code)\n    uri = results['id']['value']\n    uris.append(uri)\n\n# Creating the data frame\npd.DataFrame(data = {\"codes\": codes, \"uris\": uris})",
      "execution_count": null,
      "outputs": []
    }
  ],
  "metadata": {
    "kernelspec": {
      "display_name": "Python 3",
      "language": "python",
      "name": "python3"
    },
    "language_info": {
      "name": "python",
      "version": "3.6.6",
      "mimetype": "text/x-python",
      "codemirror_mode": {
        "name": "ipython",
        "version": 3
      },
      "pygments_lexer": "ipython3",
      "nbconvert_exporter": "python",
      "file_extension": ".py"
    }
  },
  "nbformat": 4,
  "nbformat_minor": 1
}